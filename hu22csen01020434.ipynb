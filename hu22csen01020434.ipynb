{
  "nbformat": 4,
  "nbformat_minor": 0,
  "metadata": {
    "colab": {
      "provenance": [],
      "authorship_tag": "ABX9TyM5op5P9YJGRw4EwvLZoSd8",
      "include_colab_link": true
    },
    "kernelspec": {
      "name": "python3",
      "display_name": "Python 3"
    },
    "language_info": {
      "name": "python"
    }
  },
  "cells": [
    {
      "cell_type": "markdown",
      "metadata": {
        "id": "view-in-github",
        "colab_type": "text"
      },
      "source": [
        "<a href=\"https://colab.research.google.com/github/Sarayu2043/s/blob/main/hu22csen01020434.ipynb\" target=\"_parent\"><img src=\"https://colab.research.google.com/assets/colab-badge.svg\" alt=\"Open In Colab\"/></a>"
      ]
    },
    {
      "cell_type": "code",
      "execution_count": null,
      "metadata": {
        "id": "JyZuCoh_2YEZ"
      },
      "outputs": [],
      "source": [
        " 1.\tImplement weather modeling* using the quadratic solution in stages: hard-coding variables keyboard input, read from a file, for a single set of input, multiple sets of inputs.\n",
        "\n",
        "a. save all versions, debug, fix problems, create a Github account\n",
        "\n",
        "Implementation outline for weather modeling using a quadratic solution. The approach evolves in stages:\n",
        "1.\tHardcoding variables.\n",
        "2.\tAccepting variables via keyboard input.\n",
        "3.\tReading variables from a file.\n",
        "4.\tProcessing a single set of inputs.\n",
        "5.\tProcessing multiple sets of inputs.\n",
        "At the end, you will save the versions, debug, fix issues, and push the project to GitHub."
      ]
    },
    {
      "cell_type": "markdown",
      "source": [
        "Hard coding variables"
      ],
      "metadata": {
        "id": "DAtwL5Fw6MPq"
      }
    },
    {
      "cell_type": "code",
      "source": [
        "import cmath\n",
        "\n",
        "def solve_quadratic(a, b, c):\n",
        "    discriminant = b**2 - 4*a*c\n",
        "    root1 = (-b + cmath.sqrt(discriminant)) / (2*a)\n",
        "    root2 = (-b - cmath.sqrt(discriminant)) / (2*a)\n",
        "    return root1, root2\n",
        "\n",
        "a, b, c = 1, -3, 2\n",
        "solutions = solve_quadratic(a, b, c)\n",
        "print(f\"The solutions are: {solutions}\")\n"
      ],
      "metadata": {
        "colab": {
          "base_uri": "https://localhost:8080/"
        },
        "id": "uwE2qdMk57_e",
        "outputId": "046e8ef8-0092-4856-9a33-0beb91543706"
      },
      "execution_count": 1,
      "outputs": [
        {
          "output_type": "stream",
          "name": "stdout",
          "text": [
            "The solutions are: ((2+0j), (1+0j))\n"
          ]
        }
      ]
    },
    {
      "cell_type": "markdown",
      "source": [
        "Accepting variables via Keyboard Input"
      ],
      "metadata": {
        "id": "MgEyffDu6chj"
      }
    },
    {
      "cell_type": "code",
      "source": [
        "def main():\n",
        "    a = float(input(\"Enter coefficient a: \"))\n",
        "    b = float(input(\"Enter coefficient b: \"))\n",
        "    c = float(input(\"Enter coefficient c: \"))\n",
        "\n",
        "    solutions = solve_quadratic(a, b, c)\n",
        "    print(f\"The solutions are: {solutions}\")\n",
        "\n",
        "if __name__ == \"__main__\":\n",
        "    main()\n"
      ],
      "metadata": {
        "colab": {
          "base_uri": "https://localhost:8080/"
        },
        "id": "LolHj47L6keZ",
        "outputId": "27403f12-d406-40b1-9cdf-7c26f361b9c5"
      },
      "execution_count": 2,
      "outputs": [
        {
          "output_type": "stream",
          "name": "stdout",
          "text": [
            "Enter coefficient a: 3\n",
            "Enter coefficient b: 2\n",
            "Enter coefficient c: 6\n",
            "The solutions are: ((-0.3333333333333333+1.3743685418725535j), (-0.3333333333333333-1.3743685418725535j))\n"
          ]
        }
      ]
    },
    {
      "cell_type": "markdown",
      "source": [
        "Reading Variables from a File"
      ],
      "metadata": {
        "id": "5n9fymAq6rf5"
      }
    },
    {
      "cell_type": "code",
      "source": [
        "1,-3,2\n",
        "1,-5,6\n"
      ],
      "metadata": {
        "colab": {
          "base_uri": "https://localhost:8080/"
        },
        "id": "r04nb59o6uX3",
        "outputId": "b0fdc862-0a13-47c6-827a-814bf668ffbc"
      },
      "execution_count": 3,
      "outputs": [
        {
          "output_type": "execute_result",
          "data": {
            "text/plain": [
              "(1, -5, 6)"
            ]
          },
          "metadata": {},
          "execution_count": 3
        }
      ]
    },
    {
      "cell_type": "code",
      "source": [
        "# Stage 1: Hardcoding variables\n",
        "def quadratic_weather_model_hardcoded():\n",
        "  a = 0.5  # Example quadratic coefficient\n",
        "  b = -2   # Example linear coefficient\n",
        "  c = 1    # Example constant\n",
        "\n",
        "  temperature = a * (0**2) + b * 0 + c\n",
        "  print(f\"Temperature: {temperature}\")\n",
        "\n",
        "# Stage 2: Keyboard Input\n",
        "def quadratic_weather_model_keyboard():\n",
        "  try:\n",
        "    a = float(input(\"Enter the quadratic coefficient (a): \"))\n",
        "    b = float(input(\"Enter the linear coefficient (b): \"))\n",
        "    c = float(input(\"Enter the constant (c): \"))\n",
        "    time = float(input(\"Enter time value: \"))\n",
        "\n",
        "    temperature = a * (time**2) + b * time + c\n",
        "    print(f\"Temperature at time {time}: {temperature}\")\n",
        "\n",
        "  except ValueError:\n",
        "    print(\"Invalid input. Please enter numerical values.\")\n",
        "\n",
        "# Stage 3: Read from a file\n",
        "def quadratic_weather_model_file(filename):\n",
        "  try:\n",
        "      with open(filename, 'r') as f:\n",
        "        a, b, c, time = map(float, f.readline().split(',')) # Assuming the file is comma separated\n",
        "\n",
        "      temperature = a * (time**2) + b * time + c\n",
        "      print(f\"Temperature at time {time}: {temperature}\")\n",
        "\n",
        "  except FileNotFoundError:\n",
        "      print(f\"Error: File '{filename}' not found.\")\n",
        "  except ValueError:\n",
        "      print(\"Invalid data in file. Please ensure the file contains four comma separated numerical values for a, b, c, time.\")\n",
        "  except Exception as e:\n",
        "    print(f\"An unexpected error occurred: {e}\")\n",
        "\n",
        "\n",
        "def quadratic_weather_model_multiple_inputs(filename=None):\n",
        "\n",
        "  if filename:\n",
        "      try:\n",
        "        with open(filename, 'r') as f:\n",
        "          for line in f:\n",
        "              try:\n",
        "                a, b, c, time = map(float, line.strip().split(','))\n",
        "                temperature = a * (time**2) + b * time + c\n",
        "                print(f\"For a = {a}, b = {b}, c = {c}, and time = {time}, Temperature: {temperature}\")\n",
        "              except ValueError:\n",
        "                  print(\"Skipping invalid line in file:\", line.strip()) # Handle bad lines gracefully\n",
        "      except FileNotFoundError:\n",
        "          print(f\"Error: File '{filename}' not found.\")\n",
        "      return\n",
        "\n",
        "\n",
        "  while True:\n",
        "      try:\n",
        "        a = float(input(\"Enter the quadratic coefficient (a) or type 'quit' to exit: \"))\n",
        "        if str(a).lower() == 'quit':\n",
        "          break # Gracefully exit the loop\n",
        "\n",
        "        b = float(input(\"Enter the linear coefficient (b): \"))\n",
        "        c = float(input(\"Enter the constant (c): \"))\n",
        "        time = float(input(\"Enter time value: \"))\n",
        "\n",
        "        temperature = a * (time**2) + b * time + c\n",
        "        print(f\"Temperature at time {time}: {temperature}\")\n",
        "      except ValueError:\n",
        "          print(\"Invalid input. Please enter numerical values or type 'quit'.\")\n",
        "\n",
        "\n",
        "\n",
        "\n",
        "quadratic_weather_model_multiple_inputs()"
      ],
      "metadata": {
        "colab": {
          "base_uri": "https://localhost:8080/"
        },
        "id": "D_kxbqGT8Yrb",
        "outputId": "e867fe6e-17ac-453e-9d49-8d2d11bd49fb"
      },
      "execution_count": null,
      "outputs": [
        {
          "output_type": "stream",
          "name": "stdout",
          "text": [
            "Enter the quadratic coefficient (a) or type 'quit' to exit: 3\n",
            "Enter the linear coefficient (b): 6\n",
            "Enter the constant (c): 9\n",
            "Enter time value: 999\n",
            "Temperature at time 999.0: 3000006.0\n"
          ]
        }
      ]
    }
  ]
}