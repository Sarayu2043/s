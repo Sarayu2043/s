{
  "nbformat": 4,
  "nbformat_minor": 0,
  "metadata": {
    "colab": {
      "provenance": [],
      "authorship_tag": "ABX9TyNpFYUUwMIm3IojbFou9+4d",
      "include_colab_link": true
    },
    "kernelspec": {
      "name": "python3",
      "display_name": "Python 3"
    },
    "language_info": {
      "name": "python"
    }
  },
  "cells": [
    {
      "cell_type": "markdown",
      "metadata": {
        "id": "view-in-github",
        "colab_type": "text"
      },
      "source": [
        "<a href=\"https://colab.research.google.com/github/Sarayu2043/s/blob/main/weather_data_txt.ipynb\" target=\"_parent\"><img src=\"https://colab.research.google.com/assets/colab-badge.svg\" alt=\"Open In Colab\"/></a>"
      ]
    },
    {
      "cell_type": "code",
      "execution_count": 1,
      "metadata": {
        "id": "DHo0xIrZBUp_",
        "colab": {
          "base_uri": "https://localhost:8080/"
        },
        "outputId": "48c29ce7-7bf6-4150-a1aa-2822736c6995"
      },
      "outputs": [
        {
          "output_type": "stream",
          "name": "stdout",
          "text": [
            "Hardcoded variables: 10 50\n",
            "Roots for T (hardcoded): 5.656854249492381 -5.656854249492381\n"
          ]
        }
      ],
      "source": [
        "import math\n",
        "\n",
        "# Key equation: W = 0.5(T^2) - 0.2(H) + 0.1(W) - 15\n",
        "# Hardcoding variables\n",
        "W, H = 10, 50  # Example weather parameters\n",
        "print(\"Hardcoded variables:\", W, H)\n",
        "\n",
        "# Solving the quadratic equation for T\n",
        "try:\n",
        "    a = 0.5\n",
        "    b = 0\n",
        "    c = -15 - W + 0.2 * H - 0.1 * W\n",
        "    discriminant = b**2 - 4 * a * c\n",
        "    if discriminant >= 0:\n",
        "        root1 = (-b + math.sqrt(discriminant)) / (2 * a)\n",
        "        root2 = (-b - math.sqrt(discriminant)) / (2 * a)\n",
        "        print(\"Roots for T (hardcoded):\", root1, root2)\n",
        "    else:\n",
        "        print(\"No real roots exist (hardcoded).\")\n",
        "except ZeroDivisionError:\n",
        "    print(\"Error: Division by zero (hardcoded).\")"
      ]
    },
    {
      "cell_type": "code",
      "source": [
        "print(\"\\nStage 2: Keyboard Input\")\n",
        "try:\n",
        "    W = float(input(\"Enter value for W: \"))\n",
        "    H = float(input(\"Enter value for H: \"))\n",
        "    c = -15 - W + 0.2 * H - 0.1 * W\n",
        "    discriminant = b**2 - 4 * a * c\n",
        "    if discriminant >= 0:\n",
        "        root1 = (-b + math.sqrt(discriminant)) / (2 * a)\n",
        "        root2 = (-b - math.sqrt(discriminant)) / (2 * a)\n",
        "        print(\"Roots for T (keyboard input):\", root1, root2)\n",
        "    else:\n",
        "        print(\"No real roots exist (keyboard input).\")\n",
        "except ZeroDivisionError:\n",
        "    print(\"Error: Division by zero (keyboard input).\")\n",
        "except ValueError:\n",
        "    print(\"Error: Invalid input (keyboard input).\")"
      ],
      "metadata": {
        "colab": {
          "base_uri": "https://localhost:8080/"
        },
        "id": "O6WQegkPCkmN",
        "outputId": "200b8312-5177-4ec4-de38-95ea6e15b2c4"
      },
      "execution_count": 2,
      "outputs": [
        {
          "output_type": "stream",
          "name": "stdout",
          "text": [
            "\n",
            "Stage 2: Keyboard Input\n",
            "Enter value for W: 30\n",
            "Enter value for H: 10\n",
            "Roots for T (keyboard input): 9.591663046625438 -9.591663046625438\n"
          ]
        }
      ]
    },
    {
      "cell_type": "code",
      "source": [
        "# @title Default title text\n",
        "def read_from_file(file_name):\n",
        "    print(\"\\nStage 3: Reading from a file\")\n",
        "    try:\n",
        "        with open(file_name, 'r') as file:\n",
        "            lines = file.readlines()\n",
        "            if not lines:\n",
        "                print(\"Error: File is empty.\")\n",
        "                return\n",
        "            for line in lines:\n",
        "                try:\n",
        "                    data = list(map(float, line.split()))\n",
        "                    if len(data) >= 2:  # Ensure at least W and H are present\n",
        "                        W, H = data[:2]\n",
        "                        print(f\"Processing: W={W}, H={H}\")\n",
        "                        # Compute c and solve the quadratic equation\n",
        "                        c = -15 - W + 0.2 * H - 0.1 * W\n",
        "                        discriminant = b**2 - 4 * a * c\n",
        "                        if discriminant >= 0:\n",
        "                            root1 = (-b + math.sqrt(discriminant)) / (2 * a)\n",
        "                            root2 = (-b - math.sqrt(discriminant)) / (2 * a)\n",
        "                            print(f\"Roots for T (W={W}, H={H}): {root1}, {root2}\")\n",
        "                        else:\n",
        "                            print(f\"No real roots for T (W={W}, H={H}).\")\n",
        "                    else:\n",
        "                        print(f\"Invalid format in line: {line.strip()}\")\n",
        "                except ValueError:\n",
        "                    print(f\"Error: Invalid data in line '{line.strip()}'.\")\n",
        "    except FileNotFoundError:\n",
        "        print(f\"Error: File '{file_name}' not found. Please check the file path.\")\n",
        "    except Exception as e:\n",
        "        print(f\"Unexpected error: {e}\")\n",
        "\n",
        "# Use the correct path to your file\n",
        "read_from_file('weather_data.txt')"
      ],
      "metadata": {
        "colab": {
          "base_uri": "https://localhost:8080/"
        },
        "id": "bgbAfKnHCuAr",
        "outputId": "b38a643a-fbed-4bf5-e37d-3271ff855f19"
      },
      "execution_count": 6,
      "outputs": [
        {
          "output_type": "stream",
          "name": "stdout",
          "text": [
            "\n",
            "Stage 3: Reading from a file\n",
            "Processing: W=10.0, H=50.0\n",
            "Roots for T (W=10.0, H=50.0): 5.656854249492381, -5.656854249492381\n",
            "Processing: W=20.0, H=60.0\n",
            "Roots for T (W=20.0, H=60.0): 7.0710678118654755, -7.0710678118654755\n",
            "Processing: W=15.0, H=45.0\n",
            "Roots for T (W=15.0, H=45.0): 6.708203932499369, -6.708203932499369\n"
          ]
        }
      ]
    },
    {
      "cell_type": "code",
      "source": [
        "def process_single_input(W, H):\n",
        "    \"\"\"\n",
        "    Processes a single set of inputs W and H to solve for T using the quadratic equation.\n",
        "    \"\"\"\n",
        "    print(\"\\nStage 4: Processing single input\")\n",
        "    try:\n",
        "        c = -15 - W + 0.2 * H - 0.1 * W\n",
        "        discriminant = b**2 - 4 * a * c\n",
        "        if discriminant >= 0:\n",
        "            root1 = (-b + math.sqrt(discriminant)) / (2 * a)\n",
        "            root2 = (-b - math.sqrt(discriminant)) / (2 * a)\n",
        "            print(\"Roots for T (single input):\", root1, root2)\n",
        "        else:\n",
        "            print(\"No real roots (single input).\")\n",
        "    except ZeroDivisionError:\n",
        "        print(\"Error: Division by zero (single input).\")\n",
        "    except Exception as e:\n",
        "        print(f\"Unexpected error (single input): {e}\")\n",
        "\n",
        "# Example single input\n",
        "process_single_input(10, 50)  # Replace with other values as needed"
      ],
      "metadata": {
        "colab": {
          "base_uri": "https://localhost:8080/"
        },
        "id": "ni69z5UnDfx7",
        "outputId": "3469c733-d509-4364-a0bb-71068788f7f4"
      },
      "execution_count": 7,
      "outputs": [
        {
          "output_type": "stream",
          "name": "stdout",
          "text": [
            "\n",
            "Stage 4: Processing single input\n",
            "Roots for T (single input): 5.656854249492381 -5.656854249492381\n"
          ]
        }
      ]
    },
    {
      "cell_type": "code",
      "source": [
        "def process_multiple_inputs(inputs):\n",
        "    \"\"\"\n",
        "    Processes multiple sets of inputs to solve for T using the quadratic equation.\n",
        "    \"\"\"\n",
        "    print(\"\\nStage 5: Processing multiple inputs\")\n",
        "    for idx, (W, H) in enumerate(inputs, start=1):\n",
        "        try:\n",
        "            c = -15 - W + 0.2 * H - 0.1 * W\n",
        "            discriminant = b**2 - 4 * a * c\n",
        "            if discriminant >= 0:\n",
        "                root1 = (-b + math.sqrt(discriminant)) / (2 * a)\n",
        "                root2 = (-b - math.sqrt(discriminant)) / (2 * a)\n",
        "                print(f\"Set {idx}: Roots for T (W={W}, H={H}): {root1}, {root2}\")\n",
        "            else:\n",
        "                print(f\"Set {idx}: No real roots for T (W={W}, H={H}).\")\n",
        "        except ZeroDivisionError:\n",
        "            print(f\"Set {idx}: Error: Division by zero for W={W}, H={H}.\")\n",
        "        except Exception as e:\n",
        "            print(f\"Set {idx}: Unexpected error: {e}\")\n",
        "\n",
        "# Example multiple inputs\n",
        "multiple_inputs = [\n",
        "    (10, 50),\n",
        "    (20, 60),\n",
        "    (15, 45),\n",
        "    (30, 70),  # Add more sets of inputs as needed\n",
        "]\n",
        "process_multiple_inputs(multiple_inputs)"
      ],
      "metadata": {
        "id": "eHyUPczpDkMU",
        "outputId": "585a4d54-c173-48ac-def4-e6384dc4e543",
        "colab": {
          "base_uri": "https://localhost:8080/"
        }
      },
      "execution_count": 8,
      "outputs": [
        {
          "output_type": "stream",
          "name": "stdout",
          "text": [
            "\n",
            "Stage 5: Processing multiple inputs\n",
            "Set 1: Roots for T (W=10, H=50): 5.656854249492381, -5.656854249492381\n",
            "Set 2: Roots for T (W=20, H=60): 7.0710678118654755, -7.0710678118654755\n",
            "Set 3: Roots for T (W=15, H=45): 6.708203932499369, -6.708203932499369\n",
            "Set 4: Roots for T (W=30, H=70): 8.246211251235321, -8.246211251235321\n"
          ]
        }
      ]
    }
  ]
}