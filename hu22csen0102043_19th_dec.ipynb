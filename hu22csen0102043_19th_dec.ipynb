{
  "nbformat": 4,
  "nbformat_minor": 0,
  "metadata": {
    "colab": {
      "provenance": [],
      "authorship_tag": "ABX9TyNTeSMtbPvVyGDTQroMtYtp",
      "include_colab_link": true
    },
    "kernelspec": {
      "name": "python3",
      "display_name": "Python 3"
    },
    "language_info": {
      "name": "python"
    }
  },
  "cells": [
    {
      "cell_type": "markdown",
      "metadata": {
        "id": "view-in-github",
        "colab_type": "text"
      },
      "source": [
        "<a href=\"https://colab.research.google.com/github/Sarayu2043/s/blob/main/hu22csen0102043_19th_dec.ipynb\" target=\"_parent\"><img src=\"https://colab.research.google.com/assets/colab-badge.svg\" alt=\"Open In Colab\"/></a>"
      ]
    },
    {
      "cell_type": "markdown",
      "source": [],
      "metadata": {
        "id": "nJZFisVNGzf9"
      }
    },
    {
      "cell_type": "code",
      "execution_count": null,
      "metadata": {
        "id": "SbmMyuMxGsmP"
      },
      "outputs": [],
      "source": [
        "class QuadraticWeatherModel:\n",
        "    def __init__(self):\n",
        "        pass\n",
        "\n",
        "    def calculate(self, T, H, W):\n",
        "        \"\"\"Calculate the weather model based on temperature, humidity, and wind speed.\"\"\"\n",
        "        return 0.5 * T**2 - 0.2 * H + 0.1 * W - 15\n",
        "\n",
        "    def hardcoded_values(self):\n",
        "        \"\"\"Use hardcoded values for weather modeling.\"\"\"\n",
        "        T = 30\n",
        "        H = 50\n",
        "        W = 10\n",
        "        return self.calculate(T, H, W)\n",
        "\n",
        "    def input_from_keyboard(self):\n",
        "        \"\"\"Get weather parameters from keyboard input.\"\"\"\n",
        "        T = float(input(\"Enter the temperature (T): \"))\n",
        "        H = float(input(\"Enter the humidity (H): \"))\n",
        "        W = float(input(\"Enter the wind speed (W): \"))\n",
        "        return self.calculate(T, H, W)\n",
        "\n",
        "    def input_from_file_single(self, filename):\n",
        "        \"\"\"Read a single set of inputs from a file.\"\"\"\n",
        "        with open(filename, \"r\") as file:\n",
        "            data = file.readline().strip().split()\n",
        "            T, H, W = map(float, data)\n",
        "            return self.calculate(T, H, W)\n",
        "\n",
        "    def input_from_file_multiple(self, filename):\n",
        "        \"\"\"Read multiple sets of inputs from a file.\"\"\"\n",
        "        results = []\n",
        "        with open(filename, \"r\") as file:\n",
        "            lines = file.readlines()\n",
        "            for idx, line in enumerate(lines):\n",
        "                T, H, W = map(float, line.strip().split())\n",
        "                results.append((idx + 1, self.calculate(T, H, W)))\n",
        "        return results\n",
        "\n",
        "    def input_multiple_sets_keyboard(self):\n",
        "        \"\"\"Get multiple sets of weather parameters from keyboard input.\"\"\"\n",
        "        num_sets = int(input(\"Enter the number of input sets: \"))\n",
        "        results = []\n",
        "\n",
        "        for i in range(num_sets):\n",
        "            print(f\"\\nSet {i + 1}:\")\n",
        "            T = float(input(\"Enter the temperature (T): \"))\n",
        "            H = float(input(\"Enter the humidity (H): \"))\n",
        "            W = float(input(\"Enter the wind speed (W): \"))\n",
        "            results.append((i + 1, self.calculate(T, H, W)))\n",
        "\n",
        "        return results\n"
      ]
    },
    {
      "cell_type": "markdown",
      "source": [],
      "metadata": {
        "id": "vsjF5_xbGyb_"
      }
    },
    {
      "cell_type": "code",
      "source": [
        "import unittest\n",
        "\n",
        "class TestQuadraticWeatherModel(unittest.TestCase):\n",
        "\n",
        "    def setUp(self):\n",
        "        self.model = QuadraticWeatherModel()\n",
        "\n",
        "    def test_calculate(self):\n",
        "        # Test with known values\n",
        "        result = self.model.calculate(30, 50, 10)\n",
        "        expected_result = 0.5 * 30**2 - 0.2 * 50 + 0.1 * 10 - 15\n",
        "        self.assertAlmostEqual(result, expected_result)\n",
        "\n",
        "    def test_hardcoded_values(self):\n",
        "        result = self.model.hardcoded_values()\n",
        "        expected_result = self.model.calculate(30, 50, 10)\n",
        "        self.assertAlmostEqual(result, expected_result)\n",
        "\n",
        "    def test_input_from_keyboard(self):\n",
        "        # This test would require mocking input; skipping in this example.\n",
        "        pass\n",
        "\n",
        "    def test_input_from_file_single(self):\n",
        "        # Assuming we have a test file 'test_input.txt' with \"30 50 10\"\n",
        "        result = self.model.input_from_file_single('test_input.txt')\n",
        "        expected_result = self.model.calculate(30, 50, 10)\n",
        "        self.assertAlmostEqual(result, expected_result)\n",
        "\n",
        "    def test_input_from_file_multiple(self):\n",
        "        # Assuming we have a test file 'test_inputs.txt' with multiple lines\n",
        "        results = self.model.input_from_file_multiple('test_inputs.txt')\n",
        "\n",
        "        expected_results = [\n",
        "            (1, self.model.calculate(30, 50, 10)),\n",
        "            (2, self.model.calculate(25, 60, 15)),\n",
        "            (3, self.model.calculate(35, 40, 20))\n",
        "        ]\n",
        "\n",
        "        for idx in range(len(results)):\n",
        "            self.assertAlmostEqual(results[idx][1], expected_results[idx][1])\n",
        "\n",
        "if __name__ == '__main__':\n",
        "    unittest.main(argv=['first-arg-is-ignored'], exit=False) # Prevent immediate exit"
      ],
      "metadata": {
        "colab": {
          "base_uri": "https://localhost:8080/"
        },
        "id": "MN8bGU_gG-FZ",
        "outputId": "079c2e68-d8cd-4787-c2a7-796482577ad5"
      },
      "execution_count": null,
      "outputs": [
        {
          "output_type": "stream",
          "name": "stderr",
          "text": [
            "..EE.\n",
            "======================================================================\n",
            "ERROR: test_input_from_file_multiple (__main__.TestQuadraticWeatherModel)\n",
            "----------------------------------------------------------------------\n",
            "Traceback (most recent call last):\n",
            "  File \"<ipython-input-3-7b62a7916c66>\", line 31, in test_input_from_file_multiple\n",
            "    results = self.model.input_from_file_multiple('test_inputs.txt')\n",
            "  File \"<ipython-input-1-d87d1d14954d>\", line 33, in input_from_file_multiple\n",
            "    with open(filename, \"r\") as file:\n",
            "FileNotFoundError: [Errno 2] No such file or directory: 'test_inputs.txt'\n",
            "\n",
            "======================================================================\n",
            "ERROR: test_input_from_file_single (__main__.TestQuadraticWeatherModel)\n",
            "----------------------------------------------------------------------\n",
            "Traceback (most recent call last):\n",
            "  File \"<ipython-input-3-7b62a7916c66>\", line 25, in test_input_from_file_single\n",
            "    result = self.model.input_from_file_single('test_input.txt')\n",
            "  File \"<ipython-input-1-d87d1d14954d>\", line 25, in input_from_file_single\n",
            "    with open(filename, \"r\") as file:\n",
            "FileNotFoundError: [Errno 2] No such file or directory: 'test_input.txt'\n",
            "\n",
            "----------------------------------------------------------------------\n",
            "Ran 5 tests in 0.011s\n",
            "\n",
            "FAILED (errors=2)\n"
          ]
        }
      ]
    }
  ]
}