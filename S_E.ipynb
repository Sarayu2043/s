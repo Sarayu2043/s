{
  "nbformat": 4,
  "nbformat_minor": 0,
  "metadata": {
    "colab": {
      "provenance": [],
      "authorship_tag": "ABX9TyMvmYFctXazGF6/NNjqi5Ae",
      "include_colab_link": true
    },
    "kernelspec": {
      "name": "python3",
      "display_name": "Python 3"
    },
    "language_info": {
      "name": "python"
    }
  },
  "cells": [
    {
      "cell_type": "markdown",
      "metadata": {
        "id": "view-in-github",
        "colab_type": "text"
      },
      "source": [
        "<a href=\"https://colab.research.google.com/github/Sarayu2043/s/blob/main/S_E.ipynb\" target=\"_parent\"><img src=\"https://colab.research.google.com/assets/colab-badge.svg\" alt=\"Open In Colab\"/></a>"
      ]
    },
    {
      "cell_type": "code",
      "source": [
        "def calculate_weather(t, h, w):\n",
        "    \"\"\"Calculates the weather value using the formula.\"\"\"\n",
        "    return 0.5 * t**2 - 0.2 * h + 0.1 * w - 15\n",
        "\n",
        "def predict_weather(weather):\n",
        "    \"\"\"Predicts the weather type based on the weather value.\"\"\"\n",
        "    if weather <= 100:\n",
        "        return \"Stromy\"\n",
        "    elif 200 <= weather < 250:\n",
        "        return \"Rainy\"\n",
        "    elif 251 <= weather < 300:\n",
        "        return \"Cloudy\"\n",
        "    else:\n",
        "        return \"Sunny\"\n",
        "\n",
        "def process_hardcoded_values():\n",
        "    \"\"\"Processes weather prediction using hardcoded values.\"\"\"\n",
        "    print(\"\\nProcessing hardcoded values:\")\n",
        "    t = 30\n",
        "    h = 50\n",
        "    w = 10\n",
        "    weather = calculate_weather(t, h, w)\n",
        "    weather_type = predict_weather(weather)\n",
        "    print(f\"With hardcoded values (t={t}, h={h}, w={w}), Weather = {weather:.2f}, Prediction: {weather_type}\")\n",
        "\n",
        "def process_keyboard_input():\n",
        "    \"\"\"Processes weather prediction using values from keyboard input.\"\"\"\n",
        "    print(\"\\nProcessing values from keyboard input:\")\n",
        "    t = float(input(\"Enter the temperature (t): \"))\n",
        "    h = float(input(\"Enter the humidity (h): \"))\n",
        "    w = float(input(\"Enter the wind speed (w): \"))\n",
        "    weather = calculate_weather(t, h, w)\n",
        "    weather_type = predict_weather(weather)\n",
        "    print(f\"With input values (t={t}, h={h}, w={w}), Weather = {weather:.2f}, Prediction: {weather_type}\")\n",
        "\n",
        "def process_single_input_from_file(file_name):\n",
        "    \"\"\"Processes weather prediction using a single set of inputs from a file.\"\"\"\n",
        "    print(\"\\nProcessing a single set of inputs from file:\")\n",
        "    try:\n",
        "        with open(file_name, \"r\") as file:\n",
        "            line = file.readline().strip()\n",
        "            t, h, w = map(float, line.split())\n",
        "            weather = calculate_weather(t, h, w)\n",
        "            weather_type = predict_weather(weather)\n",
        "            print(f\"With input values (t={t}, h={h}, w={w}), Weather = {weather:.2f}, Prediction: {weather_type}\")\n",
        "    except FileNotFoundError:\n",
        "        print(\"Error: File not found. Please ensure the file exists.\")\n",
        "    except ValueError:\n",
        "        print(\"Error: Invalid input format in the file.\")\n",
        "\n",
        "def process_multiple_inputs_from_file(file_name):\n",
        "    \"\"\"Processes weather prediction using multiple sets of inputs from a file.\"\"\"\n",
        "    print(\"\\nProcessing multiple sets of inputs from file:\")\n",
        "    try:\n",
        "        with open(file_name, \"r\") as file:\n",
        "            lines = file.readlines()\n",
        "            for i, line in enumerate(lines):\n",
        "                try:\n",
        "                    t, h, w = map(float, line.strip().split())\n",
        "                    weather = calculate_weather(t, h, w)\n",
        "                    weather_type = predict_weather(weather)\n",
        "                    print(f\"With input values (t={t}, h={h}, w={w}), Weather = {weather:.2f}, Prediction: {weather_type}\")\n",
        "                except ValueError:\n",
        "                    print(f\"Set {i + 1}: Invalid input format. Skipping this set.\")\n",
        "    except FileNotFoundError:\n",
        "        print(\"Error: File not found. Please ensure the file exists.\")\n",
        "\n",
        "def main():\n",
        "    \"\"\"Main function to run the weather prediction program.\"\"\"\n",
        "    print(\"Weather Modeling using the formula: w = 0.5t^2 - 0.2h + 0.1w - 15\")\n",
        "    print(\"Choose an option:\")\n",
        "    print(\"1. Process hardcoded values.\")\n",
        "    print(\"2. Process values from keyboard input.\")\n",
        "    print(\"3. Process a single set of inputs from a file.\")\n",
        "    print(\"4. Process multiple sets of inputs from a file.\")\n",
        "    choice = input(\"Enter your choice (1, 2, 3, or 4): \")\n",
        "    if choice == \"1\":\n",
        "        process_hardcoded_values()\n",
        "    elif choice == \"2\":\n",
        "        process_keyboard_input()\n",
        "    elif choice == \"3\":\n",
        "        file_name = input(\"Enter the file name (e.g., 'values.txt'): \")\n",
        "        process_single_input_from_file(file_name)\n",
        "    elif choice == \"4\":\n",
        "        file_name = input(\"Enter the file name (e.g., 'values.txt'): \")\n",
        "        process_multiple_inputs_from_file(file_name)\n",
        "    else:\n",
        "        print(\"Invalid choice. Please enter 1, 2, 3, or 4.\")\n",
        "\n",
        "if __name__ == \"__main__\":\n",
        "    main()"
      ],
      "metadata": {
        "colab": {
          "base_uri": "https://localhost:8080/"
        },
        "id": "ffxZFrg2HlgK",
        "outputId": "e501667b-aa06-4a5f-c1be-c7552f72f254"
      },
      "execution_count": null,
      "outputs": [
        {
          "output_type": "stream",
          "name": "stdout",
          "text": [
            "Weather Modeling using the formula: w = 0.5t^2 - 0.2h + 0.1w - 15\n",
            "Choose an option:\n",
            "1. Process hardcoded values.\n",
            "2. Process values from keyboard input.\n",
            "3. Process a single set of inputs from a file.\n",
            "4. Process multiple sets of inputs from a file.\n",
            "Enter your choice (1, 2, 3, or 4): 3\n",
            "Enter the file name (e.g., 'values.txt'): 'values.txt'\n",
            "\n",
            "Processing a single set of inputs from file:\n",
            "Error: File not found. Please ensure the file exists.\n"
          ]
        }
      ]
    }
  ]
}