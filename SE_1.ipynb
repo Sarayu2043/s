{
  "nbformat": 4,
  "nbformat_minor": 0,
  "metadata": {
    "colab": {
      "provenance": [],
      "authorship_tag": "ABX9TyMPG9hzfTgmR/BK7Uo+Y+Mf",
      "include_colab_link": true
    },
    "kernelspec": {
      "name": "python3",
      "display_name": "Python 3"
    },
    "language_info": {
      "name": "python"
    }
  },
  "cells": [
    {
      "cell_type": "markdown",
      "metadata": {
        "id": "view-in-github",
        "colab_type": "text"
      },
      "source": [
        "<a href=\"https://colab.research.google.com/github/Sarayu2043/s/blob/main/SE_1.ipynb\" target=\"_parent\"><img src=\"https://colab.research.google.com/assets/colab-badge.svg\" alt=\"Open In Colab\"/></a>"
      ]
    },
    {
      "cell_type": "code",
      "execution_count": 1,
      "metadata": {
        "colab": {
          "base_uri": "https://localhost:8080/"
        },
        "id": "vSrhYsM2Liw8",
        "outputId": "93b28a92-dd8a-4012-a495-a84b2491d6d8"
      },
      "outputs": [
        {
          "output_type": "stream",
          "name": "stdout",
          "text": [
            "Enter the temperature in Celsius: 3\n",
            "Enter the humidity percentage: 60\n",
            "Enter the wind speed in m/s: 600\n",
            "The calculated weather index is: 37.5\n"
          ]
        }
      ],
      "source": [
        "# prompt: Implement weather modeling* using the quadratic solution 0.5t^2-0.2h+0.1w-15 Hardcoding variables with user inputs\n",
        "\n",
        "def weather_model(t, h, w):\n",
        "  \"\"\"\n",
        "  This function implements a simplified weather model using a quadratic equation.\n",
        "\n",
        "  Args:\n",
        "    t: Temperature (Celsius).\n",
        "    h: Humidity (percentage).\n",
        "    w: Wind speed (m/s).\n",
        "\n",
        "  Returns:\n",
        "    The result of the weather model calculation.\n",
        "  \"\"\"\n",
        "  result = 0.5 * (t**2) - 0.2 * h + 0.1 * w - 15\n",
        "  return result\n",
        "\n",
        "temperature = float(input(\"Enter the temperature in Celsius: \"))\n",
        "humidity = float(input(\"Enter the humidity percentage: \"))\n",
        "wind_speed = float(input(\"Enter the wind speed in m/s: \"))\n",
        "\n",
        "weather_index = weather_model(temperature, humidity, wind_speed)\n",
        "\n",
        "print(f\"The calculated weather index is: {weather_index}\")\n",
        ""
      ]
    }
  ]
}