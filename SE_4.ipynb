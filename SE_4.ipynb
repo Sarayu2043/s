{
  "nbformat": 4,
  "nbformat_minor": 0,
  "metadata": {
    "colab": {
      "provenance": [],
      "authorship_tag": "ABX9TyOlHcGUFRKSC+7slmJdiMOE",
      "include_colab_link": true
    },
    "kernelspec": {
      "name": "python3",
      "display_name": "Python 3"
    },
    "language_info": {
      "name": "python"
    }
  },
  "cells": [
    {
      "cell_type": "markdown",
      "metadata": {
        "id": "view-in-github",
        "colab_type": "text"
      },
      "source": [
        "<a href=\"https://colab.research.google.com/github/Sarayu2043/s/blob/main/SE_4.ipynb\" target=\"_parent\"><img src=\"https://colab.research.google.com/assets/colab-badge.svg\" alt=\"Open In Colab\"/></a>"
      ]
    },
    {
      "cell_type": "code",
      "execution_count": null,
      "metadata": {
        "colab": {
          "base_uri": "https://localhost:8080/"
        },
        "id": "V5uW2fOXQN_F",
        "outputId": "cd23af3c-14b6-4537-a6e7-0f6f08b54442"
      },
      "outputs": [
        {
          "name": "stdout",
          "output_type": "stream",
          "text": [
            "Enter the number of weather data sets: 33\n",
            "\n",
            "Enter data for set 1:\n",
            "Temperature (Celsius): 30\n",
            "Humidity (%): 50\n",
            "Wind speed (m/s): 70\n",
            "Weather index: 432.0\n",
            "\n",
            "Enter data for set 2:\n",
            "Temperature (Celsius): 70\n",
            "Humidity (%): 90\n",
            "Wind speed (m/s): 78\n",
            "Weather index: 2424.8\n",
            "\n",
            "Enter data for set 3:\n",
            "Temperature (Celsius): 43\n",
            "Humidity (%): 65\n",
            "Wind speed (m/s): 22\n",
            "Weather index: 898.7\n",
            "\n",
            "Enter data for set 4:\n",
            "Temperature (Celsius): 89\n",
            "Humidity (%): 34\n",
            "Wind speed (m/s): 12\n",
            "Weather index: 3939.8999999999996\n",
            "\n",
            "Enter data for set 5:\n",
            "Temperature (Celsius): 12\n",
            "Humidity (%): 12\n",
            "Wind speed (m/s): 1\n",
            "Weather index: 54.69999999999999\n",
            "\n",
            "Enter data for set 6:\n",
            "Temperature (Celsius): 2\n",
            "Humidity (%): 2\n",
            "Wind speed (m/s): 2\n",
            "Weather index: -13.2\n",
            "\n",
            "Enter data for set 7:\n",
            "Temperature (Celsius): 2\n",
            "Humidity (%): 12\n",
            "Wind speed (m/s): 1\n",
            "Weather index: -15.3\n",
            "\n",
            "Enter data for set 8:\n",
            "Temperature (Celsius): 21\n",
            "Humidity (%): 2\n",
            "Wind speed (m/s): \n",
            "Invalid input. Please enter numerical values.\n",
            "\n",
            "Enter data for set 9:\n",
            "Temperature (Celsius): 3\n",
            "Humidity (%): 14\n",
            "Wind speed (m/s): 4\n",
            "Weather index: -12.9\n",
            "\n",
            "Enter data for set 10:\n",
            "Temperature (Celsius): 4\n",
            "Humidity (%): 4\n",
            "Wind speed (m/s): \n",
            "Invalid input. Please enter numerical values.\n",
            "\n",
            "Enter data for set 11:\n",
            "Temperature (Celsius): 45\n",
            "Humidity (%): \n",
            "Invalid input. Please enter numerical values.\n",
            "\n",
            "Enter data for set 12:\n",
            "Temperature (Celsius): 5\n",
            "Humidity (%): 5\n",
            "Wind speed (m/s): 5\n",
            "Weather index: -3.0\n",
            "\n",
            "Enter data for set 13:\n",
            "Temperature (Celsius): 66\n"
          ]
        }
      ],
      "source": [
        "# prompt: Implementation outline for weather modeling using a quadratic solution  0.5t^2-0.2h+0.1w-15 Processing multiple sets of inputs with user inputs\n",
        "\n",
        "def calculate_weather_index(temperature, humidity, wind_speed):\n",
        "  \"\"\"Calculates a weather index using a quadratic model.\n",
        "\n",
        "  Args:\n",
        "    temperature: The temperature in Celsius.\n",
        "    humidity: The relative humidity (percentage).\n",
        "    wind_speed: The wind speed in meters per second.\n",
        "\n",
        "  Returns:\n",
        "    The calculated weather index.\n",
        "  \"\"\"\n",
        "  index = 0.5 * (temperature**2) - 0.2 * humidity + 0.1 * wind_speed - 15\n",
        "  return index\n",
        "\n",
        "def main():\n",
        "  \"\"\"Processes multiple weather data sets from user input.\"\"\"\n",
        "\n",
        "  num_sets = int(input(\"Enter the number of weather data sets: \"))\n",
        "\n",
        "  for i in range(num_sets):\n",
        "    print(f\"\\nEnter data for set {i + 1}:\")\n",
        "    try:\n",
        "      temperature = float(input(\"Temperature (Celsius): \"))\n",
        "      humidity = float(input(\"Humidity (%): \"))\n",
        "      wind_speed = float(input(\"Wind speed (m/s): \"))\n",
        "\n",
        "      weather_index = calculate_weather_index(temperature, humidity, wind_speed)\n",
        "\n",
        "      print(f\"Weather index: {weather_index}\")\n",
        "\n",
        "    except ValueError:\n",
        "      print(\"Invalid input. Please enter numerical values.\")\n",
        "\n",
        "\n",
        "if __name__ == \"__main__\":\n",
        "  main()2345"
      ]
    }
  ]
}