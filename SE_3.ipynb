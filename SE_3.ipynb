{
  "nbformat": 4,
  "nbformat_minor": 0,
  "metadata": {
    "colab": {
      "provenance": [],
      "authorship_tag": "ABX9TyOoXG87ydHJWKSRCESXEcp2",
      "include_colab_link": true
    },
    "kernelspec": {
      "name": "python3",
      "display_name": "Python 3"
    },
    "language_info": {
      "name": "python"
    }
  },
  "cells": [
    {
      "cell_type": "markdown",
      "metadata": {
        "id": "view-in-github",
        "colab_type": "text"
      },
      "source": [
        "<a href=\"https://colab.research.google.com/github/Sarayu2043/s/blob/main/SE_3.ipynb\" target=\"_parent\"><img src=\"https://colab.research.google.com/assets/colab-badge.svg\" alt=\"Open In Colab\"/></a>"
      ]
    },
    {
      "cell_type": "code",
      "execution_count": 1,
      "metadata": {
        "colab": {
          "base_uri": "https://localhost:8080/"
        },
        "id": "i1VyYwxOOBia",
        "outputId": "2dd8c534-fa2e-4533-ff20-ec7e873ea22e"
      },
      "outputs": [
        {
          "output_type": "stream",
          "name": "stdout",
          "text": [
            "Enter the temperature in Celsius: 5\n",
            "Enter the relative humidity (percentage): 90\n",
            "Enter the wind speed in meters per second: 54\n",
            "The calculated weather index is: -15.1\n"
          ]
        }
      ],
      "source": [
        "# prompt: Implementation outline for weather modeling using a quadratic solution 0.5t^2-0.2h+0.1w-15 Processing a single set of inputs with user input values\n",
        "\n",
        "def calculate_weather_index(temperature, humidity, wind_speed):\n",
        "  \"\"\"Calculates a weather index using a quadratic equation.\n",
        "\n",
        "  Args:\n",
        "    temperature: The temperature in Celsius.\n",
        "    humidity: The relative humidity (percentage).\n",
        "    wind_speed: The wind speed in meters per second.\n",
        "\n",
        "  Returns:\n",
        "    The calculated weather index.\n",
        "  \"\"\"\n",
        "  index = 0.5 * (temperature ** 2) - 0.2 * humidity + 0.1 * wind_speed - 15\n",
        "  return index\n",
        "\n",
        "\n",
        "if __name__ == \"__main__\":\n",
        "  try:\n",
        "    temperature = float(input(\"Enter the temperature in Celsius: \"))\n",
        "    humidity = float(input(\"Enter the relative humidity (percentage): \"))\n",
        "    wind_speed = float(input(\"Enter the wind speed in meters per second: \"))\n",
        "\n",
        "    weather_index = calculate_weather_index(temperature, humidity, wind_speed)\n",
        "\n",
        "    print(f\"The calculated weather index is: {weather_index}\")\n",
        "\n",
        "  except ValueError:\n",
        "    print(\"Invalid input. Please enter numeric values.\")"
      ]
    }
  ]
}